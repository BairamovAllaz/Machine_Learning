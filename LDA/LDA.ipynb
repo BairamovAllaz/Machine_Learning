{
 "cells": [
  {
   "cell_type": "code",
   "execution_count": 13,
   "id": "1647f706-4d9f-48d7-bc04-9885a282aacf",
   "metadata": {},
   "outputs": [
    {
     "name": "stdout",
     "output_type": "stream",
     "text": [
      "0\n",
      "1\n"
     ]
    }
   ],
   "source": [
    "import numpy as np\n",
    "\n",
    "def compute_mean_vectors(X,y):\n",
    "    classes = np.unique(y);\n",
    "    mean_vectors = []\n",
    "    for cls in classes: \n",
    "        mean_vectors.append(np.mean(X[y==cls], axis=0));\n",
    "    return mean_vectors;\n",
    "\n",
    "\n",
    "def compute_within_class_scatter(X,y,mean_vectors): \n",
    "    classes = np.unique(y);\n",
    "    num_features = X.shape[1];\n",
    "    Sw = np.zeros((num_features,num_features));\n",
    "    \n",
    "    for cls,mean_vec in zip(classes, mean_vectors): \n",
    "        class_scatter = np.zeros((num_features, num_features))\n",
    "        for row in X[y == cls]:\n",
    "            row, mean_vec = row.reshape(num_features, 1), mean_vec.reshape(num_features, 1);\n",
    "            class_scatter += (row - mean_vec).dot((row - mean_vec).T)\n",
    "    \n",
    "      Sw += class_scatter\n",
    "    return Sw;\n",
    "\n",
    "\n",
    "def compute_between_class_scatter(X, y, mean_vectors):\n",
    "    classes = np.unique(y)\n",
    "    num_features = X.shape[1]\n",
    "    overall_mean = np.mean(X, axis=0).reshape(num_features, 1)\n",
    "    Sb = np.zeros((num_features, num_features))  # Initialize Sb\n",
    "    for cls, mean_vec in zip(classes, mean_vectors):\n",
    "        n = X[y == cls].shape[0]\n",
    "        mean_vec = mean_vec.reshape(num_features, 1)\n",
    "        Sb += n * (mean_vec - overall_mean).dot((mean_vec - overall_mean).T)\n",
    "    return Sb\n",
    "\n",
    "\n",
    "X = np.array([\n",
    "    [2, 3],\n",
    "    [3, 4],\n",
    "    [4, 5],\n",
    "    [5, 6],\n",
    "    [6, 7],\n",
    "    [7, 8]\n",
    "])\n",
    "y = np.array([0, 0, 0, 1, 1, 1])\n",
    "\n",
    "compute_within_class_scatter(X,y,y);"
   ]
  },
  {
   "cell_type": "code",
   "execution_count": null,
   "id": "e3369178-f48d-41c1-919d-87241c907e33",
   "metadata": {},
   "outputs": [],
   "source": []
  }
 ],
 "metadata": {
  "kernelspec": {
   "display_name": "Python 3 (ipykernel)",
   "language": "python",
   "name": "python3"
  },
  "language_info": {
   "codemirror_mode": {
    "name": "ipython",
    "version": 3
   },
   "file_extension": ".py",
   "mimetype": "text/x-python",
   "name": "python",
   "nbconvert_exporter": "python",
   "pygments_lexer": "ipython3",
   "version": "3.9.13"
  }
 },
 "nbformat": 4,
 "nbformat_minor": 5
}
