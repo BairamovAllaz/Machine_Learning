{
 "cells": [
  {
   "cell_type": "code",
   "execution_count": 1,
   "id": "7d4bc3b8-1e8b-451c-ba0e-c2affbdb99b5",
   "metadata": {},
   "outputs": [],
   "source": [
    "import numpy as np\n",
    "from sklearn.linear_model import LogisticRegression\n",
    "from sklearn.metrics import accuracy_score"
   ]
  },
  {
   "cell_type": "code",
   "execution_count": 2,
   "id": "1c58e5ce-2044-4623-9ce7-0614be1260e1",
   "metadata": {},
   "outputs": [],
   "source": [
    "X = np.array([[3.5], [2.8], [3.2], [3.9], [2.5]]) \n",
    "y = np.array([1, 0, 1, 1, 0]) "
   ]
  },
  {
   "cell_type": "code",
   "execution_count": 3,
   "id": "5e52dd81-59b6-4f82-9ed6-406694d4d431",
   "metadata": {},
   "outputs": [],
   "source": [
    "model = LogisticRegression();\n",
    "model.fit(X,y);"
   ]
  },
  {
   "cell_type": "code",
   "execution_count": 8,
   "id": "cc525520-a509-4188-8497-4574572052e4",
   "metadata": {},
   "outputs": [
    {
     "name": "stdout",
     "output_type": "stream",
     "text": [
      "-2.196592624277738\n",
      "[0.82355488]\n"
     ]
    }
   ],
   "source": [
    "b0 = model.intercept_[0]\n",
    "b1= model.coef_[0]\n",
    "\n",
    "print(b0)\n",
    "print(b1);"
   ]
  },
  {
   "cell_type": "code",
   "execution_count": 14,
   "id": "8cd06400-fdfd-4b32-9a79-0b1997a5cdd3",
   "metadata": {},
   "outputs": [
    {
     "name": "stdout",
     "output_type": "stream",
     "text": [
      "[0.66504298 0.52731304 0.607969   0.7340505  0.46562794]\n"
     ]
    }
   ],
   "source": [
    "probabilities = model.predict_proba(X)[:,1];\n",
    "print(probabilities)"
   ]
  },
  {
   "cell_type": "code",
   "execution_count": 16,
   "id": "30480057-9f71-4fa0-98cf-f45bf4d7b36e",
   "metadata": {},
   "outputs": [
    {
     "name": "stdout",
     "output_type": "stream",
     "text": [
      "[1 1 1 1 0]\n"
     ]
    }
   ],
   "source": [
    "predictions = model.predict(X) \n",
    "print(predictions)"
   ]
  },
  {
   "cell_type": "code",
   "execution_count": 17,
   "id": "7b084068-c35e-4533-93b9-dd91a56df583",
   "metadata": {},
   "outputs": [
    {
     "name": "stdout",
     "output_type": "stream",
     "text": [
      "\n",
      "Model Accuracy: 80.00%\n"
     ]
    }
   ],
   "source": [
    "accuracy = accuracy_score(y, predictions)\n",
    "print(f\"\\nModel Accuracy: {accuracy * 100:.2f}%\")"
   ]
  }
 ],
 "metadata": {
  "kernelspec": {
   "display_name": "Python 3 (ipykernel)",
   "language": "python",
   "name": "python3"
  },
  "language_info": {
   "codemirror_mode": {
    "name": "ipython",
    "version": 3
   },
   "file_extension": ".py",
   "mimetype": "text/x-python",
   "name": "python",
   "nbconvert_exporter": "python",
   "pygments_lexer": "ipython3",
   "version": "3.9.13"
  }
 },
 "nbformat": 4,
 "nbformat_minor": 5
}
