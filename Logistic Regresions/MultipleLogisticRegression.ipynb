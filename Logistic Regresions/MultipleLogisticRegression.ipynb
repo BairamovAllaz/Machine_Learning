{
 "cells": [
  {
   "cell_type": "code",
   "execution_count": 12,
   "id": "73a69baa-3dde-46a8-96e9-fe0f16699f3a",
   "metadata": {},
   "outputs": [],
   "source": [
    "import numpy as np\n",
    "import pandas as pd\n",
    "from sklearn.linear_model import LogisticRegression\n",
    "from sklearn.metrics import accuracy_score\n",
    "from sklearn.model_selection import train_test_split"
   ]
  },
  {
   "cell_type": "code",
   "execution_count": 9,
   "id": "05f486e6-2e5f-463a-be7a-8f392803bebc",
   "metadata": {},
   "outputs": [
    {
     "name": "stdout",
     "output_type": "stream",
     "text": [
      "   Age  MonthlyCharges  Tenure  Churn\n",
      "0   25            50.0      12      0\n",
      "1   45            80.0      24      0\n",
      "2   35            60.0       6      1\n",
      "3   50            90.0      36      0\n",
      "4   30            70.0       3      1\n"
     ]
    }
   ],
   "source": [
    "data = {\n",
    "    \"Age\": [25, 45, 35, 50, 30],\n",
    "    \"MonthlyCharges\": [50.0, 80.0, 60.0, 90.0, 70.0],\n",
    "    \"Tenure\": [12, 24, 6, 36, 3],\n",
    "    \"Churn\": [0, 0, 1, 0, 1]\n",
    "}\n",
    "df = pd.DataFrame(data)\n",
    "print(df)"
   ]
  },
  {
   "cell_type": "code",
   "execution_count": 11,
   "id": "c3ff3cd4-ec69-49aa-808f-c22ab71aa3e4",
   "metadata": {},
   "outputs": [],
   "source": [
    "X = df[[\"Age\", \"MonthlyCharges\", \"Tenure\"]]\n",
    "y = df[\"Churn\"];"
   ]
  },
  {
   "cell_type": "code",
   "execution_count": 14,
   "id": "83d2095d-233f-44ce-a1fa-aca01a800fd8",
   "metadata": {},
   "outputs": [],
   "source": [
    "X_train,X_test,y_train,y_test = train_test_split(X,y,test_size = 0.3,random_state=42);"
   ]
  },
  {
   "cell_type": "code",
   "execution_count": 16,
   "id": "58b2bae5-4528-468e-8076-61efd47ff299",
   "metadata": {},
   "outputs": [],
   "source": [
    "model = LogisticRegression();\n",
    "model.fit(X_train,y_train);"
   ]
  },
  {
   "cell_type": "code",
   "execution_count": 19,
   "id": "faa57545-5861-4c3e-b5ef-fd10a0452158",
   "metadata": {},
   "outputs": [
    {
     "name": "stdout",
     "output_type": "stream",
     "text": [
      "[0 1]\n"
     ]
    }
   ],
   "source": [
    "y_pred = model.predict(X_test);\n",
    "print(y_pred)"
   ]
  },
  {
   "cell_type": "code",
   "execution_count": 20,
   "id": "ed521934-46eb-4886-9d37-48d6a2a9bd1b",
   "metadata": {},
   "outputs": [
    {
     "name": "stdout",
     "output_type": "stream",
     "text": [
      "Accuracy: 100.00%\n"
     ]
    }
   ],
   "source": [
    "accuracy = accuracy_score(y_test, y_pred)\n",
    "print(f\"Accuracy: {accuracy * 100:.2f}%\")"
   ]
  },
  {
   "cell_type": "code",
   "execution_count": 21,
   "id": "c0fec921-7e68-4088-8da3-11c1a403c98a",
   "metadata": {},
   "outputs": [
    {
     "name": "stdout",
     "output_type": "stream",
     "text": [
      "Probabilities (Class 0, Class 1):\n",
      "[[0.76394645 0.23605355]\n",
      " [0.01258577 0.98741423]]\n"
     ]
    }
   ],
   "source": [
    "probabilities = model.predict_proba(X_test)\n",
    "print(\"Probabilities (Class 0, Class 1):\")\n",
    "print(probabilities)"
   ]
  }
 ],
 "metadata": {
  "kernelspec": {
   "display_name": "Python 3 (ipykernel)",
   "language": "python",
   "name": "python3"
  },
  "language_info": {
   "codemirror_mode": {
    "name": "ipython",
    "version": 3
   },
   "file_extension": ".py",
   "mimetype": "text/x-python",
   "name": "python",
   "nbconvert_exporter": "python",
   "pygments_lexer": "ipython3",
   "version": "3.9.13"
  }
 },
 "nbformat": 4,
 "nbformat_minor": 5
}
